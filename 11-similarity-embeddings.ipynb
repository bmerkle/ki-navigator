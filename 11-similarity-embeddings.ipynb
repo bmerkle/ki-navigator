{
 "cells": [
  {
   "cell_type": "markdown",
   "id": "b64ece1d-7558-4fb6-a98b-ad06283bb898",
   "metadata": {},
   "source": [
    "# Load data"
   ]
  },
  {
   "cell_type": "markdown",
   "id": "afa37856",
   "metadata": {},
   "source": [
    "Sätze extrahiert aus der UN-Generaldebatte 2022"
   ]
  },
  {
   "cell_type": "code",
   "execution_count": null,
   "id": "da81a054",
   "metadata": {},
   "outputs": [],
   "source": [
    "!test -f sentences.txt || wget https://github.com/datanizing/m3-llm-workshop/raw/main/sentences.txt"
   ]
  },
  {
   "cell_type": "code",
   "execution_count": 1,
   "id": "532c4a6c-52d3-4436-9e45-b1e4f870baec",
   "metadata": {},
   "outputs": [],
   "source": [
    "sentences = open(\"sentences.txt\").read().split(\"@@@\")"
   ]
  },
  {
   "cell_type": "code",
   "execution_count": 2,
   "id": "115c1046",
   "metadata": {},
   "outputs": [
    {
     "data": {
      "text/plain": [
       "17250"
      ]
     },
     "execution_count": 2,
     "metadata": {},
     "output_type": "execute_result"
    }
   ],
   "source": [
    "len(sentences)"
   ]
  },
  {
   "cell_type": "markdown",
   "id": "447ac753-3f5d-4eed-a51b-581c37856041",
   "metadata": {},
   "source": [
    "# Encode sentences"
   ]
  },
  {
   "cell_type": "code",
   "execution_count": null,
   "id": "1805469a",
   "metadata": {},
   "outputs": [],
   "source": [
    "!pip install sentence-transformers"
   ]
  },
  {
   "cell_type": "code",
   "execution_count": 3,
   "id": "9ca1b2b1-9072-4b60-b8c4-4130b8f8d6dd",
   "metadata": {},
   "outputs": [],
   "source": [
    "from sentence_transformers import SentenceTransformer\n",
    "model = SentenceTransformer('intfloat/e5-base-v2')"
   ]
  },
  {
   "cell_type": "code",
   "execution_count": 4,
   "id": "b259f42b-9c45-4fee-b319-afcb37625ec4",
   "metadata": {},
   "outputs": [
    {
     "data": {
      "application/vnd.jupyter.widget-view+json": {
       "model_id": "fe55eaf6390a4197a4108b98feea644b",
       "version_major": 2,
       "version_minor": 0
      },
      "text/plain": [
       "Batches:   0%|          | 0/540 [00:00<?, ?it/s]"
      ]
     },
     "metadata": {},
     "output_type": "display_data"
    }
   ],
   "source": [
    "# can take a minute or two depending on CPU/GPU configuration\n",
    "sembeddings = model.encode([\"passage: \" + s for s in sentences], \n",
    "                           show_progress_bar=True)"
   ]
  },
  {
   "cell_type": "code",
   "execution_count": 5,
   "id": "d6fb009d-7d0a-4332-a29d-68aea47e2f37",
   "metadata": {},
   "outputs": [],
   "source": [
    "import numpy as np\n",
    "with open(\"sentences-e5.npy\", \"wb\") as f:\n",
    "    np.save(f, sembeddings)"
   ]
  },
  {
   "cell_type": "code",
   "execution_count": 6,
   "id": "53b8bfec-5b4b-44a1-a6ff-a7029d234c62",
   "metadata": {},
   "outputs": [
    {
     "data": {
      "text/plain": [
       "(17250, 768)"
      ]
     },
     "execution_count": 6,
     "metadata": {},
     "output_type": "execute_result"
    }
   ],
   "source": [
    "sembeddings.shape"
   ]
  },
  {
   "cell_type": "code",
   "execution_count": 7,
   "id": "a9baa068-3e5d-4618-9a2b-4af333d0db67",
   "metadata": {},
   "outputs": [
    {
     "data": {
      "application/vnd.jupyter.widget-view+json": {
       "model_id": "0728f3d2119c42a6a31f2b765de8003e",
       "version_major": 2,
       "version_minor": 0
      },
      "text/plain": [
       "modules.json:   0%|          | 0.00/349 [00:00<?, ?B/s]"
      ]
     },
     "metadata": {},
     "output_type": "display_data"
    },
    {
     "data": {
      "application/vnd.jupyter.widget-view+json": {
       "model_id": "4f77751318d244d58c00f2f9fb383eab",
       "version_major": 2,
       "version_minor": 0
      },
      "text/plain": [
       "config_sentence_transformers.json:   0%|          | 0.00/116 [00:00<?, ?B/s]"
      ]
     },
     "metadata": {},
     "output_type": "display_data"
    },
    {
     "data": {
      "application/vnd.jupyter.widget-view+json": {
       "model_id": "f8b3323dbc2247988858144e431325b4",
       "version_major": 2,
       "version_minor": 0
      },
      "text/plain": [
       "README.md:   0%|          | 0.00/10.6k [00:00<?, ?B/s]"
      ]
     },
     "metadata": {},
     "output_type": "display_data"
    },
    {
     "data": {
      "application/vnd.jupyter.widget-view+json": {
       "model_id": "32a431fff1d545409ec57942f536ce5f",
       "version_major": 2,
       "version_minor": 0
      },
      "text/plain": [
       "sentence_bert_config.json:   0%|          | 0.00/53.0 [00:00<?, ?B/s]"
      ]
     },
     "metadata": {},
     "output_type": "display_data"
    },
    {
     "data": {
      "application/vnd.jupyter.widget-view+json": {
       "model_id": "3bf145dff6bd4f22808b68ef097e6754",
       "version_major": 2,
       "version_minor": 0
      },
      "text/plain": [
       "config.json:   0%|          | 0.00/571 [00:00<?, ?B/s]"
      ]
     },
     "metadata": {},
     "output_type": "display_data"
    },
    {
     "data": {
      "application/vnd.jupyter.widget-view+json": {
       "model_id": "32c6573baf7e4132a77689d37723a848",
       "version_major": 2,
       "version_minor": 0
      },
      "text/plain": [
       "model.safetensors:   0%|          | 0.00/438M [00:00<?, ?B/s]"
      ]
     },
     "metadata": {},
     "output_type": "display_data"
    },
    {
     "data": {
      "application/vnd.jupyter.widget-view+json": {
       "model_id": "327f3c07c83647fb856f7f835935eb41",
       "version_major": 2,
       "version_minor": 0
      },
      "text/plain": [
       "tokenizer_config.json:   0%|          | 0.00/363 [00:00<?, ?B/s]"
      ]
     },
     "metadata": {},
     "output_type": "display_data"
    },
    {
     "data": {
      "application/vnd.jupyter.widget-view+json": {
       "model_id": "27c41c16d0ee438388ed0dd900040db4",
       "version_major": 2,
       "version_minor": 0
      },
      "text/plain": [
       "vocab.txt:   0%|          | 0.00/232k [00:00<?, ?B/s]"
      ]
     },
     "metadata": {},
     "output_type": "display_data"
    },
    {
     "data": {
      "application/vnd.jupyter.widget-view+json": {
       "model_id": "ba13fff0f3d24e50b443be669856a130",
       "version_major": 2,
       "version_minor": 0
      },
      "text/plain": [
       "tokenizer.json:   0%|          | 0.00/466k [00:00<?, ?B/s]"
      ]
     },
     "metadata": {},
     "output_type": "display_data"
    },
    {
     "data": {
      "application/vnd.jupyter.widget-view+json": {
       "model_id": "afa9d660b5934bf3b8758f35fe487d4b",
       "version_major": 2,
       "version_minor": 0
      },
      "text/plain": [
       "special_tokens_map.json:   0%|          | 0.00/239 [00:00<?, ?B/s]"
      ]
     },
     "metadata": {},
     "output_type": "display_data"
    },
    {
     "data": {
      "application/vnd.jupyter.widget-view+json": {
       "model_id": "ad59c885815740f4817968a9498e9d14",
       "version_major": 2,
       "version_minor": 0
      },
      "text/plain": [
       "1_Pooling/config.json:   0%|          | 0.00/190 [00:00<?, ?B/s]"
      ]
     },
     "metadata": {},
     "output_type": "display_data"
    }
   ],
   "source": [
    "model2 = SentenceTransformer('all-mpnet-base-v2')"
   ]
  },
  {
   "cell_type": "code",
   "execution_count": 8,
   "id": "bd2eeae8-8eb7-4eb2-9bcc-9191459ede18",
   "metadata": {},
   "outputs": [
    {
     "data": {
      "application/vnd.jupyter.widget-view+json": {
       "model_id": "065ce0dd18c6475c910eee4c28e2b409",
       "version_major": 2,
       "version_minor": 0
      },
      "text/plain": [
       "Batches:   0%|          | 0/540 [00:00<?, ?it/s]"
      ]
     },
     "metadata": {},
     "output_type": "display_data"
    }
   ],
   "source": [
    "# can take a minute or two depending on CPU/GPU configuration\n",
    "sembeddings2 = model2.encode(sentences, show_progress_bar=True)"
   ]
  },
  {
   "cell_type": "code",
   "execution_count": 9,
   "id": "338ee160-3e09-43e5-9d46-387b5b37c256",
   "metadata": {},
   "outputs": [],
   "source": [
    "import numpy as np\n",
    "with open(\"sentences-mpnet.npy\", \"wb\") as f:\n",
    "    np.save(f, sembeddings2)"
   ]
  },
  {
   "cell_type": "markdown",
   "id": "4dddad02-fea3-40a0-b9b2-eb4ad04f910b",
   "metadata": {},
   "source": [
    "# Retrieval"
   ]
  },
  {
   "cell_type": "code",
   "execution_count": 10,
   "id": "416ac725-97c8-4709-aad3-f36cac16a0c7",
   "metadata": {},
   "outputs": [],
   "source": [
    "def search(query, text, corpus_embeddings, model, top=20):\n",
    "    # code query to restrict search space\n",
    "    question_embedding = model.encode(query)\n",
    "    \n",
    "    # Determine similarity (vectors are normalized)\n",
    "    sim = np.dot(corpus_embeddings, question_embedding)\n",
    "    \n",
    "    # Get most similar top by sorting\n",
    "    hits = [ { \"text\": text[i], \"score\": sim[i] } \n",
    "                     for i in sim.argsort()[::-1][0:top] ]\n",
    "    \n",
    "    # Return as dataframe\n",
    "    return pd.DataFrame(hits)"
   ]
  },
  {
   "cell_type": "code",
   "execution_count": 11,
   "id": "7b3a0f3f-6a10-406e-938c-ff7573787206",
   "metadata": {},
   "outputs": [],
   "source": [
    "import pandas as pd\n",
    "pd.set_option('display.max_colwidth', 0)"
   ]
  },
  {
   "cell_type": "code",
   "execution_count": 12,
   "id": "31901804-2f16-4236-b6c2-7bffb1dc63cd",
   "metadata": {},
   "outputs": [
    {
     "data": {
      "text/html": [
       "<div>\n",
       "<style scoped>\n",
       "    .dataframe tbody tr th:only-of-type {\n",
       "        vertical-align: middle;\n",
       "    }\n",
       "\n",
       "    .dataframe tbody tr th {\n",
       "        vertical-align: top;\n",
       "    }\n",
       "\n",
       "    .dataframe thead th {\n",
       "        text-align: right;\n",
       "    }\n",
       "</style>\n",
       "<table border=\"1\" class=\"dataframe\">\n",
       "  <thead>\n",
       "    <tr style=\"text-align: right;\">\n",
       "      <th></th>\n",
       "      <th>text</th>\n",
       "      <th>score</th>\n",
       "    </tr>\n",
       "  </thead>\n",
       "  <tbody>\n",
       "    <tr>\n",
       "      <th>0</th>\n",
       "      <td>A triple crisis concerning energy, food security and finance is weighing heavily on vulnerable countries, countries that are already suffering the most from the climate crisis and the coronavirus disease pandemic.</td>\n",
       "      <td>0.851163</td>\n",
       "    </tr>\n",
       "    <tr>\n",
       "      <th>1</th>\n",
       "      <td>The negative impacts of climate change are disproportionately affecting the most vulnerable and marginalized communities around the world, and doing so at a faster pace.</td>\n",
       "      <td>0.850445</td>\n",
       "    </tr>\n",
       "    <tr>\n",
       "      <th>2</th>\n",
       "      <td>For example, my country, Cabo Verde, in the past 15 years — between 2007 and 2022 — has suffered the economic and social impact of multiple crises: the economic and financial crisis of 2007-2008, at the very moment when we graduated from the list of least developed countries; the coronavirus disease pandemic, which caused a recession of 14.6 per cent in 2020; the ongoing inflationary impact of world events; and, in the last five years, one of the most profound and most serious droughts in the recent history of the country.</td>\n",
       "      <td>0.841351</td>\n",
       "    </tr>\n",
       "    <tr>\n",
       "      <th>3</th>\n",
       "      <td>Meanwhile, the threats have been adding up: economic recovery from the coronavirus disease pandemic has slowed; the climate crisis is worsening, with extreme weather events, biodiversity loss and collapsing ecosystems; poverty and hunger are on the rise; and there is definitely a humanitarian crisis.</td>\n",
       "      <td>0.841316</td>\n",
       "    </tr>\n",
       "    <tr>\n",
       "      <th>4</th>\n",
       "      <td>The risks of further inequality are also real, especially for our developing countries, whose capacity to adapt to and mitigate the effects of climate change is inadequate, sadly, in spite of our insignificant carbon footprint.</td>\n",
       "      <td>0.840212</td>\n",
       "    </tr>\n",
       "    <tr>\n",
       "      <th>5</th>\n",
       "      <td>How much more scorched Earth, how many millions more climate refugees, how many flood victims will it take to convince us that ignoring our commitments is no longer an option?</td>\n",
       "      <td>0.839927</td>\n",
       "    </tr>\n",
       "    <tr>\n",
       "      <th>6</th>\n",
       "      <td>That is why the richest countries must strengthen their financial and technological solidarity with the poorest countries on climate issues.</td>\n",
       "      <td>0.839283</td>\n",
       "    </tr>\n",
       "    <tr>\n",
       "      <th>7</th>\n",
       "      <td>Climate change reduces opportunity and prosperity, which in Africa, Latin America and some parts of Asia also contributes to transnational organized crime.</td>\n",
       "      <td>0.838881</td>\n",
       "    </tr>\n",
       "    <tr>\n",
       "      <th>8</th>\n",
       "      <td>The effects of climate change are worsening.</td>\n",
       "      <td>0.837806</td>\n",
       "    </tr>\n",
       "    <tr>\n",
       "      <th>9</th>\n",
       "      <td>Climate change destroys our ecosystems, results in land degradation and contributes to the decline of agricultural productivity, which is the mainstay of small economies.</td>\n",
       "      <td>0.837374</td>\n",
       "    </tr>\n",
       "    <tr>\n",
       "      <th>10</th>\n",
       "      <td>The climate crisis is creating an increasingly uncertain future for people in most parts of the world.</td>\n",
       "      <td>0.836666</td>\n",
       "    </tr>\n",
       "    <tr>\n",
       "      <th>11</th>\n",
       "      <td>The paradox is that the countries most vulnerable to climate change and natural disasters, and with the least fiscal capacity to adapt and recover, do not qualify for grant and concessionary financing.</td>\n",
       "      <td>0.836181</td>\n",
       "    </tr>\n",
       "    <tr>\n",
       "      <th>12</th>\n",
       "      <td>So the question is: What else needs to happen in order to force urgent action?\\nEven if some of the Governments of the industrialized nations remain reluctant to curb greenhouse gas emissions for the sake of the most vulnerable globally, they should be motivated by the perils for their own people.</td>\n",
       "      <td>0.835663</td>\n",
       "    </tr>\n",
       "    <tr>\n",
       "      <th>13</th>\n",
       "      <td>I now ask how much longer the new climate colonialism will continue punishing the victims and sparing the victimizers?</td>\n",
       "      <td>0.835479</td>\n",
       "    </tr>\n",
       "    <tr>\n",
       "      <th>14</th>\n",
       "      <td>Other countries are experiencing energy shortages or higher energy prices, which is having an impact on the living conditions of millions of people.</td>\n",
       "      <td>0.834538</td>\n",
       "    </tr>\n",
       "    <tr>\n",
       "      <th>15</th>\n",
       "      <td>Like many challenges, climate change affects developing nations first, hindering their ability to realize the Sustainable Development Goals.</td>\n",
       "      <td>0.834449</td>\n",
       "    </tr>\n",
       "    <tr>\n",
       "      <th>16</th>\n",
       "      <td>It is therefore only natural that such difficult conditions have more severe and dangerous consequences for developing countries, owing to their vulnerability and lack of resilience.</td>\n",
       "      <td>0.833988</td>\n",
       "    </tr>\n",
       "    <tr>\n",
       "      <th>17</th>\n",
       "      <td>Neither is it necessary to explain it to countries like Pakistan, which today is suffering the truly devastating consequences of the rest of the world’s climate inaction, or to coastal countries, particularly small island nations, which see their livelihoods threatened year after year by rising sea waters.</td>\n",
       "      <td>0.833620</td>\n",
       "    </tr>\n",
       "    <tr>\n",
       "      <th>18</th>\n",
       "      <td>Humanitarian assistance needs have multiplied, inequality has unfortunately grown, and the negative effects of climate change have also increased.</td>\n",
       "      <td>0.832517</td>\n",
       "    </tr>\n",
       "    <tr>\n",
       "      <th>19</th>\n",
       "      <td>Is it not right for the rich nations of the world to contribute to alleviating the problems that have been thrust upon small developing States?</td>\n",
       "      <td>0.831886</td>\n",
       "    </tr>\n",
       "  </tbody>\n",
       "</table>\n",
       "</div>"
      ],
      "text/plain": [
       "                                                                                                                                                                                                                                                                                                                                                                                                                                                                                                                                                text  \\\n",
       "0   A triple crisis concerning energy, food security and finance is weighing heavily on vulnerable countries, countries that are already suffering the most from the climate crisis and the coronavirus disease pandemic.                                                                                                                                                                                                                                                                                                                              \n",
       "1   The negative impacts of climate change are disproportionately affecting the most vulnerable and marginalized communities around the world, and doing so at a faster pace.                                                                                                                                                                                                                                                                                                                                                                          \n",
       "2   For example, my country, Cabo Verde, in the past 15 years — between 2007 and 2022 — has suffered the economic and social impact of multiple crises: the economic and financial crisis of 2007-2008, at the very moment when we graduated from the list of least developed countries; the coronavirus disease pandemic, which caused a recession of 14.6 per cent in 2020; the ongoing inflationary impact of world events; and, in the last five years, one of the most profound and most serious droughts in the recent history of the country.   \n",
       "3   Meanwhile, the threats have been adding up: economic recovery from the coronavirus disease pandemic has slowed; the climate crisis is worsening, with extreme weather events, biodiversity loss and collapsing ecosystems; poverty and hunger are on the rise; and there is definitely a humanitarian crisis.                                                                                                                                                                                                                                      \n",
       "4   The risks of further inequality are also real, especially for our developing countries, whose capacity to adapt to and mitigate the effects of climate change is inadequate, sadly, in spite of our insignificant carbon footprint.                                                                                                                                                                                                                                                                                                                \n",
       "5   How much more scorched Earth, how many millions more climate refugees, how many flood victims will it take to convince us that ignoring our commitments is no longer an option?                                                                                                                                                                                                                                                                                                                                                                    \n",
       "6   That is why the richest countries must strengthen their financial and technological solidarity with the poorest countries on climate issues.                                                                                                                                                                                                                                                                                                                                                                                                       \n",
       "7   Climate change reduces opportunity and prosperity, which in Africa, Latin America and some parts of Asia also contributes to transnational organized crime.                                                                                                                                                                                                                                                                                                                                                                                        \n",
       "8   The effects of climate change are worsening.                                                                                                                                                                                                                                                                                                                                                                                                                                                                                                       \n",
       "9   Climate change destroys our ecosystems, results in land degradation and contributes to the decline of agricultural productivity, which is the mainstay of small economies.                                                                                                                                                                                                                                                                                                                                                                         \n",
       "10  The climate crisis is creating an increasingly uncertain future for people in most parts of the world.                                                                                                                                                                                                                                                                                                                                                                                                                                             \n",
       "11  The paradox is that the countries most vulnerable to climate change and natural disasters, and with the least fiscal capacity to adapt and recover, do not qualify for grant and concessionary financing.                                                                                                                                                                                                                                                                                                                                          \n",
       "12  So the question is: What else needs to happen in order to force urgent action?\\nEven if some of the Governments of the industrialized nations remain reluctant to curb greenhouse gas emissions for the sake of the most vulnerable globally, they should be motivated by the perils for their own people.                                                                                                                                                                                                                                         \n",
       "13  I now ask how much longer the new climate colonialism will continue punishing the victims and sparing the victimizers?                                                                                                                                                                                                                                                                                                                                                                                                                             \n",
       "14  Other countries are experiencing energy shortages or higher energy prices, which is having an impact on the living conditions of millions of people.                                                                                                                                                                                                                                                                                                                                                                                               \n",
       "15  Like many challenges, climate change affects developing nations first, hindering their ability to realize the Sustainable Development Goals.                                                                                                                                                                                                                                                                                                                                                                                                       \n",
       "16  It is therefore only natural that such difficult conditions have more severe and dangerous consequences for developing countries, owing to their vulnerability and lack of resilience.                                                                                                                                                                                                                                                                                                                                                             \n",
       "17  Neither is it necessary to explain it to countries like Pakistan, which today is suffering the truly devastating consequences of the rest of the world’s climate inaction, or to coastal countries, particularly small island nations, which see their livelihoods threatened year after year by rising sea waters.                                                                                                                                                                                                                                \n",
       "18  Humanitarian assistance needs have multiplied, inequality has unfortunately grown, and the negative effects of climate change have also increased.                                                                                                                                                                                                                                                                                                                                                                                                 \n",
       "19  Is it not right for the rich nations of the world to contribute to alleviating the problems that have been thrust upon small developing States?                                                                                                                                                                                                                                                                                                                                                                                                    \n",
       "\n",
       "       score  \n",
       "0   0.851163  \n",
       "1   0.850445  \n",
       "2   0.841351  \n",
       "3   0.841316  \n",
       "4   0.840212  \n",
       "5   0.839927  \n",
       "6   0.839283  \n",
       "7   0.838881  \n",
       "8   0.837806  \n",
       "9   0.837374  \n",
       "10  0.836666  \n",
       "11  0.836181  \n",
       "12  0.835663  \n",
       "13  0.835479  \n",
       "14  0.834538  \n",
       "15  0.834449  \n",
       "16  0.833988  \n",
       "17  0.833620  \n",
       "18  0.832517  \n",
       "19  0.831886  "
      ]
     },
     "execution_count": 12,
     "metadata": {},
     "output_type": "execute_result"
    }
   ],
   "source": [
    "search(\"query: Is the climate crisis worse for poorer countries?\", \n",
    "       sentences, sembeddings, model)"
   ]
  },
  {
   "cell_type": "code",
   "execution_count": 13,
   "id": "ed14fc30-5640-4891-8ae1-defa57bf21a6",
   "metadata": {},
   "outputs": [
    {
     "data": {
      "text/html": [
       "<div>\n",
       "<style scoped>\n",
       "    .dataframe tbody tr th:only-of-type {\n",
       "        vertical-align: middle;\n",
       "    }\n",
       "\n",
       "    .dataframe tbody tr th {\n",
       "        vertical-align: top;\n",
       "    }\n",
       "\n",
       "    .dataframe thead th {\n",
       "        text-align: right;\n",
       "    }\n",
       "</style>\n",
       "<table border=\"1\" class=\"dataframe\">\n",
       "  <thead>\n",
       "    <tr style=\"text-align: right;\">\n",
       "      <th></th>\n",
       "      <th>text</th>\n",
       "      <th>score</th>\n",
       "    </tr>\n",
       "  </thead>\n",
       "  <tbody>\n",
       "    <tr>\n",
       "      <th>0</th>\n",
       "      <td>Russia’s unprovoked war against another sovereign State, Ukraine, has shaken the world to the core, put to the test the fundamental principles of the United Nations, shattered global security and triggered a European energy crisis, global food shortages and an economic downturn.</td>\n",
       "      <td>0.866839</td>\n",
       "    </tr>\n",
       "    <tr>\n",
       "      <th>1</th>\n",
       "      <td>The war, provoked by Russian aggression, is a war in which Russia is not limiting itself to fighting the Ukrainian army.</td>\n",
       "      <td>0.863874</td>\n",
       "    </tr>\n",
       "    <tr>\n",
       "      <th>2</th>\n",
       "      <td>The war in Ukraine has not only unleashed death and horrendous destruction, but has plunged the world into an economic crisis of runaway inflation and shortages of food and energy supplies and worsened a global supply chain crisis that had been triggered by the COVID-19 pandemic.</td>\n",
       "      <td>0.861158</td>\n",
       "    </tr>\n",
       "    <tr>\n",
       "      <th>3</th>\n",
       "      <td>Russia bears sole responsibility for the war and its consequences — and Russia is responsible for bringing it to an end.</td>\n",
       "      <td>0.859240</td>\n",
       "    </tr>\n",
       "    <tr>\n",
       "      <th>4</th>\n",
       "      <td>This war, started by Russia in Ukraine, like all other conflicts going on in the world today, must be lost by the aggressor.</td>\n",
       "      <td>0.859155</td>\n",
       "    </tr>\n",
       "    <tr>\n",
       "      <th>5</th>\n",
       "      <td>The Russian aggression against Ukraine has caused food insecurity and an energy crisis, which have devastating socioeconomic impacts on countries worldwide.</td>\n",
       "      <td>0.857210</td>\n",
       "    </tr>\n",
       "    <tr>\n",
       "      <th>6</th>\n",
       "      <td>Some argue that the war is between Russia and Ukraine.</td>\n",
       "      <td>0.856763</td>\n",
       "    </tr>\n",
       "    <tr>\n",
       "      <th>7</th>\n",
       "      <td>It is the war, the aggression in Ukraine that is responsible for the problems that they are experiencing.</td>\n",
       "      <td>0.856398</td>\n",
       "    </tr>\n",
       "    <tr>\n",
       "      <th>8</th>\n",
       "      <td>Russia’s aggression against Ukraine has caused the greatest refugee crisis in Europe since the Second World War, aggravating the already serious global refugee situation.</td>\n",
       "      <td>0.855043</td>\n",
       "    </tr>\n",
       "    <tr>\n",
       "      <th>9</th>\n",
       "      <td>In late February 2022, open hostilities between Russia and Ukraine erupted, exacerbating the economic turmoil that was already brewing globally.</td>\n",
       "      <td>0.853860</td>\n",
       "    </tr>\n",
       "    <tr>\n",
       "      <th>10</th>\n",
       "      <td>Russia started a war of aggression with the goal of ending the sovereignty of its neighbour, overthrowing its legitimate Government, exterminating the Ukrainian nation and implementing its abusive order, steeped in imperialism, self-interest and dominance.</td>\n",
       "      <td>0.853074</td>\n",
       "    </tr>\n",
       "    <tr>\n",
       "      <th>11</th>\n",
       "      <td>The unfair war of aggression that Russia unleashed on Ukraine, with whose people we express our solidarity, pushed up fuel prices and caused shortages of grains and fertilizers, with a strong impact on our economy and that of many States.</td>\n",
       "      <td>0.852701</td>\n",
       "    </tr>\n",
       "    <tr>\n",
       "      <th>12</th>\n",
       "      <td>The first is: What are the root causes of the conflict in Ukraine?</td>\n",
       "      <td>0.851532</td>\n",
       "    </tr>\n",
       "    <tr>\n",
       "      <th>13</th>\n",
       "      <td>Since 24 February we have been witnessing the tragic consequences of the unprovoked and illegal war started by the Russian Federation, a permanent member of the Security Council, against Ukraine.</td>\n",
       "      <td>0.851268</td>\n",
       "    </tr>\n",
       "    <tr>\n",
       "      <th>14</th>\n",
       "      <td>The Russian bombs and missiles directed towards the people of Ukraine are also aimed at causing conflicts in other countries.</td>\n",
       "      <td>0.848562</td>\n",
       "    </tr>\n",
       "    <tr>\n",
       "      <th>15</th>\n",
       "      <td>Russia’s war with Ukraine has already threatened international peace and stability and created hardships for nations unconnected with the conflict.</td>\n",
       "      <td>0.848265</td>\n",
       "    </tr>\n",
       "    <tr>\n",
       "      <th>16</th>\n",
       "      <td>The coronavirus disease (COVID-19) pandemic and the Russia-Ukraine war strongly influence those attitudes today.</td>\n",
       "      <td>0.847833</td>\n",
       "    </tr>\n",
       "    <tr>\n",
       "      <th>17</th>\n",
       "      <td>We are convinced that the conflict in Ukraine arises from a wider geopolitical chaos, whose causes must be sought in the events of 30 years ago.</td>\n",
       "      <td>0.847606</td>\n",
       "    </tr>\n",
       "    <tr>\n",
       "      <th>18</th>\n",
       "      <td>“The coronavirus disease pandemic and the conflict between Ukraine and Russia have dramatically aggravated the situation.</td>\n",
       "      <td>0.847288</td>\n",
       "    </tr>\n",
       "    <tr>\n",
       "      <th>19</th>\n",
       "      <td>Perhaps Russia was interfering with Western interests when it played a key role in stopping the hostilities unleashed by Kyiv’s neo-Nazis in eastern Ukraine and then insisted on the implementation of the Minsk package of measures — which was adopted unanimously by the Security Council in February 2015 but then killed by Kyiv with the direct involvement of the United States and the EU?</td>\n",
       "      <td>0.847035</td>\n",
       "    </tr>\n",
       "  </tbody>\n",
       "</table>\n",
       "</div>"
      ],
      "text/plain": [
       "                                                                                                                                                                                                                                                                                                                                                                                                   text  \\\n",
       "0   Russia’s unprovoked war against another sovereign State, Ukraine, has shaken the world to the core, put to the test the fundamental principles of the United Nations, shattered global security and triggered a European energy crisis, global food shortages and an economic downturn.                                                                                                               \n",
       "1   The war, provoked by Russian aggression, is a war in which Russia is not limiting itself to fighting the Ukrainian army.                                                                                                                                                                                                                                                                              \n",
       "2   The war in Ukraine has not only unleashed death and horrendous destruction, but has plunged the world into an economic crisis of runaway inflation and shortages of food and energy supplies and worsened a global supply chain crisis that had been triggered by the COVID-19 pandemic.                                                                                                              \n",
       "3   Russia bears sole responsibility for the war and its consequences — and Russia is responsible for bringing it to an end.                                                                                                                                                                                                                                                                              \n",
       "4   This war, started by Russia in Ukraine, like all other conflicts going on in the world today, must be lost by the aggressor.                                                                                                                                                                                                                                                                          \n",
       "5   The Russian aggression against Ukraine has caused food insecurity and an energy crisis, which have devastating socioeconomic impacts on countries worldwide.                                                                                                                                                                                                                                          \n",
       "6   Some argue that the war is between Russia and Ukraine.                                                                                                                                                                                                                                                                                                                                                \n",
       "7   It is the war, the aggression in Ukraine that is responsible for the problems that they are experiencing.                                                                                                                                                                                                                                                                                             \n",
       "8   Russia’s aggression against Ukraine has caused the greatest refugee crisis in Europe since the Second World War, aggravating the already serious global refugee situation.                                                                                                                                                                                                                            \n",
       "9   In late February 2022, open hostilities between Russia and Ukraine erupted, exacerbating the economic turmoil that was already brewing globally.                                                                                                                                                                                                                                                      \n",
       "10  Russia started a war of aggression with the goal of ending the sovereignty of its neighbour, overthrowing its legitimate Government, exterminating the Ukrainian nation and implementing its abusive order, steeped in imperialism, self-interest and dominance.                                                                                                                                      \n",
       "11  The unfair war of aggression that Russia unleashed on Ukraine, with whose people we express our solidarity, pushed up fuel prices and caused shortages of grains and fertilizers, with a strong impact on our economy and that of many States.                                                                                                                                                        \n",
       "12  The first is: What are the root causes of the conflict in Ukraine?                                                                                                                                                                                                                                                                                                                                    \n",
       "13  Since 24 February we have been witnessing the tragic consequences of the unprovoked and illegal war started by the Russian Federation, a permanent member of the Security Council, against Ukraine.                                                                                                                                                                                                   \n",
       "14  The Russian bombs and missiles directed towards the people of Ukraine are also aimed at causing conflicts in other countries.                                                                                                                                                                                                                                                                         \n",
       "15  Russia’s war with Ukraine has already threatened international peace and stability and created hardships for nations unconnected with the conflict.                                                                                                                                                                                                                                                   \n",
       "16  The coronavirus disease (COVID-19) pandemic and the Russia-Ukraine war strongly influence those attitudes today.                                                                                                                                                                                                                                                                                      \n",
       "17  We are convinced that the conflict in Ukraine arises from a wider geopolitical chaos, whose causes must be sought in the events of 30 years ago.                                                                                                                                                                                                                                                      \n",
       "18  “The coronavirus disease pandemic and the conflict between Ukraine and Russia have dramatically aggravated the situation.                                                                                                                                                                                                                                                                             \n",
       "19  Perhaps Russia was interfering with Western interests when it played a key role in stopping the hostilities unleashed by Kyiv’s neo-Nazis in eastern Ukraine and then insisted on the implementation of the Minsk package of measures — which was adopted unanimously by the Security Council in February 2015 but then killed by Kyiv with the direct involvement of the United States and the EU?   \n",
       "\n",
       "       score  \n",
       "0   0.866839  \n",
       "1   0.863874  \n",
       "2   0.861158  \n",
       "3   0.859240  \n",
       "4   0.859155  \n",
       "5   0.857210  \n",
       "6   0.856763  \n",
       "7   0.856398  \n",
       "8   0.855043  \n",
       "9   0.853860  \n",
       "10  0.853074  \n",
       "11  0.852701  \n",
       "12  0.851532  \n",
       "13  0.851268  \n",
       "14  0.848562  \n",
       "15  0.848265  \n",
       "16  0.847833  \n",
       "17  0.847606  \n",
       "18  0.847288  \n",
       "19  0.847035  "
      ]
     },
     "execution_count": 13,
     "metadata": {},
     "output_type": "execute_result"
    }
   ],
   "source": [
    "search(\"query: Is the war on Ukraine caused by Russia?\", \n",
    "       sentences, sembeddings, model)"
   ]
  },
  {
   "cell_type": "code",
   "execution_count": 14,
   "id": "457d9c8f-f013-4965-9232-b4ae20128b4a",
   "metadata": {},
   "outputs": [
    {
     "data": {
      "text/html": [
       "<div>\n",
       "<style scoped>\n",
       "    .dataframe tbody tr th:only-of-type {\n",
       "        vertical-align: middle;\n",
       "    }\n",
       "\n",
       "    .dataframe tbody tr th {\n",
       "        vertical-align: top;\n",
       "    }\n",
       "\n",
       "    .dataframe thead th {\n",
       "        text-align: right;\n",
       "    }\n",
       "</style>\n",
       "<table border=\"1\" class=\"dataframe\">\n",
       "  <thead>\n",
       "    <tr style=\"text-align: right;\">\n",
       "      <th></th>\n",
       "      <th>text</th>\n",
       "      <th>score</th>\n",
       "    </tr>\n",
       "  </thead>\n",
       "  <tbody>\n",
       "    <tr>\n",
       "      <th>0</th>\n",
       "      <td>The risks of further inequality are also real, especially for our developing countries, whose capacity to adapt to and mitigate the effects of climate change is inadequate, sadly, in spite of our insignificant carbon footprint.</td>\n",
       "      <td>0.663719</td>\n",
       "    </tr>\n",
       "    <tr>\n",
       "      <th>1</th>\n",
       "      <td>No country is immune to the climate crisis.</td>\n",
       "      <td>0.655583</td>\n",
       "    </tr>\n",
       "    <tr>\n",
       "      <th>2</th>\n",
       "      <td>Let us consider the climate crisis.</td>\n",
       "      <td>0.653818</td>\n",
       "    </tr>\n",
       "    <tr>\n",
       "      <th>3</th>\n",
       "      <td>Although climate change and the resulting extreme weather conditions occur throughout the globe, the crisis largely affects the minimally resilient and those least responsible for causing the problem.</td>\n",
       "      <td>0.646110</td>\n",
       "    </tr>\n",
       "    <tr>\n",
       "      <th>4</th>\n",
       "      <td>While Africa is the region least responsible for the climate crisis, it finds itself at the epicentre of its worst impacts.</td>\n",
       "      <td>0.645133</td>\n",
       "    </tr>\n",
       "    <tr>\n",
       "      <th>5</th>\n",
       "      <td>The turmoil and insecurity in many parts of the world require urgent attention, and so does the need to tackle the problems posed by climate change.</td>\n",
       "      <td>0.638900</td>\n",
       "    </tr>\n",
       "    <tr>\n",
       "      <th>6</th>\n",
       "      <td>The climate crisis is creating an increasingly uncertain future for people in most parts of the world.</td>\n",
       "      <td>0.634599</td>\n",
       "    </tr>\n",
       "    <tr>\n",
       "      <th>7</th>\n",
       "      <td>That is why the richest countries must strengthen their financial and technological solidarity with the poorest countries on climate issues.</td>\n",
       "      <td>0.633547</td>\n",
       "    </tr>\n",
       "    <tr>\n",
       "      <th>8</th>\n",
       "      <td>The effects of climate change are worsening.</td>\n",
       "      <td>0.633082</td>\n",
       "    </tr>\n",
       "    <tr>\n",
       "      <th>9</th>\n",
       "      <td>Finally, as many Member States are clearly experiencing, the climate crisis has a particularly strong impact on our Latin American continent, and especially the Caribbean, as well as the livelihoods of our people.</td>\n",
       "      <td>0.626490</td>\n",
       "    </tr>\n",
       "    <tr>\n",
       "      <th>10</th>\n",
       "      <td>Like many challenges, climate change affects developing nations first, hindering their ability to realize the Sustainable Development Goals.</td>\n",
       "      <td>0.623701</td>\n",
       "    </tr>\n",
       "    <tr>\n",
       "      <th>11</th>\n",
       "      <td>A triple crisis concerning energy, food security and finance is weighing heavily on vulnerable countries, countries that are already suffering the most from the climate crisis and the coronavirus disease pandemic.</td>\n",
       "      <td>0.621425</td>\n",
       "    </tr>\n",
       "    <tr>\n",
       "      <th>12</th>\n",
       "      <td>Sadly, catastrophes have begun to hit, mostly affecting the poorest and most vulnerable countries.</td>\n",
       "      <td>0.619376</td>\n",
       "    </tr>\n",
       "    <tr>\n",
       "      <th>13</th>\n",
       "      <td>The climate crisis aggravates the food crisis, the health crisis deepens the social crisis, the energy crisis intensifies the economic crisis, and the latter endangers world peace.</td>\n",
       "      <td>0.619057</td>\n",
       "    </tr>\n",
       "    <tr>\n",
       "      <th>14</th>\n",
       "      <td>Climate change affects millions of people worldwide and increases the needs of vulnerable people.</td>\n",
       "      <td>0.616578</td>\n",
       "    </tr>\n",
       "    <tr>\n",
       "      <th>15</th>\n",
       "      <td>The negative impacts of climate change are disproportionately affecting the most vulnerable and marginalized communities around the world, and doing so at a faster pace.</td>\n",
       "      <td>0.615744</td>\n",
       "    </tr>\n",
       "    <tr>\n",
       "      <th>16</th>\n",
       "      <td>People around the world are exposed to devastating floods, heat waves and drought, all of which exacerbate humanitarian crises and security threats, especially in areas most vulnerable to climate change.</td>\n",
       "      <td>0.612854</td>\n",
       "    </tr>\n",
       "    <tr>\n",
       "      <th>17</th>\n",
       "      <td>Humanitarian assistance needs have multiplied, inequality has unfortunately grown, and the negative effects of climate change have also increased.</td>\n",
       "      <td>0.609920</td>\n",
       "    </tr>\n",
       "    <tr>\n",
       "      <th>18</th>\n",
       "      <td>Why should small island nations like mine, which have contributed so little to the climate crisis, experience the biggest burdens and risks of climate change?</td>\n",
       "      <td>0.604068</td>\n",
       "    </tr>\n",
       "    <tr>\n",
       "      <th>19</th>\n",
       "      <td>Recent climate events are transboundary and drive home the reality that no country is immune to the impacts of climate change.</td>\n",
       "      <td>0.601520</td>\n",
       "    </tr>\n",
       "  </tbody>\n",
       "</table>\n",
       "</div>"
      ],
      "text/plain": [
       "                                                                                                                                                                                                                                   text  \\\n",
       "0   The risks of further inequality are also real, especially for our developing countries, whose capacity to adapt to and mitigate the effects of climate change is inadequate, sadly, in spite of our insignificant carbon footprint.   \n",
       "1   No country is immune to the climate crisis.                                                                                                                                                                                           \n",
       "2   Let us consider the climate crisis.                                                                                                                                                                                                   \n",
       "3   Although climate change and the resulting extreme weather conditions occur throughout the globe, the crisis largely affects the minimally resilient and those least responsible for causing the problem.                              \n",
       "4   While Africa is the region least responsible for the climate crisis, it finds itself at the epicentre of its worst impacts.                                                                                                           \n",
       "5   The turmoil and insecurity in many parts of the world require urgent attention, and so does the need to tackle the problems posed by climate change.                                                                                  \n",
       "6   The climate crisis is creating an increasingly uncertain future for people in most parts of the world.                                                                                                                                \n",
       "7   That is why the richest countries must strengthen their financial and technological solidarity with the poorest countries on climate issues.                                                                                          \n",
       "8   The effects of climate change are worsening.                                                                                                                                                                                          \n",
       "9   Finally, as many Member States are clearly experiencing, the climate crisis has a particularly strong impact on our Latin American continent, and especially the Caribbean, as well as the livelihoods of our people.                 \n",
       "10  Like many challenges, climate change affects developing nations first, hindering their ability to realize the Sustainable Development Goals.                                                                                          \n",
       "11  A triple crisis concerning energy, food security and finance is weighing heavily on vulnerable countries, countries that are already suffering the most from the climate crisis and the coronavirus disease pandemic.                 \n",
       "12  Sadly, catastrophes have begun to hit, mostly affecting the poorest and most vulnerable countries.                                                                                                                                    \n",
       "13  The climate crisis aggravates the food crisis, the health crisis deepens the social crisis, the energy crisis intensifies the economic crisis, and the latter endangers world peace.                                                  \n",
       "14  Climate change affects millions of people worldwide and increases the needs of vulnerable people.                                                                                                                                     \n",
       "15  The negative impacts of climate change are disproportionately affecting the most vulnerable and marginalized communities around the world, and doing so at a faster pace.                                                             \n",
       "16  People around the world are exposed to devastating floods, heat waves and drought, all of which exacerbate humanitarian crises and security threats, especially in areas most vulnerable to climate change.                           \n",
       "17  Humanitarian assistance needs have multiplied, inequality has unfortunately grown, and the negative effects of climate change have also increased.                                                                                    \n",
       "18  Why should small island nations like mine, which have contributed so little to the climate crisis, experience the biggest burdens and risks of climate change?                                                                        \n",
       "19  Recent climate events are transboundary and drive home the reality that no country is immune to the impacts of climate change.                                                                                                        \n",
       "\n",
       "       score  \n",
       "0   0.663719  \n",
       "1   0.655583  \n",
       "2   0.653818  \n",
       "3   0.646110  \n",
       "4   0.645133  \n",
       "5   0.638900  \n",
       "6   0.634599  \n",
       "7   0.633547  \n",
       "8   0.633082  \n",
       "9   0.626490  \n",
       "10  0.623701  \n",
       "11  0.621425  \n",
       "12  0.619376  \n",
       "13  0.619057  \n",
       "14  0.616578  \n",
       "15  0.615744  \n",
       "16  0.612854  \n",
       "17  0.609920  \n",
       "18  0.604068  \n",
       "19  0.601520  "
      ]
     },
     "execution_count": 14,
     "metadata": {},
     "output_type": "execute_result"
    }
   ],
   "source": [
    "search(\"Is the climate crisis worse for poorer countries?\", \n",
    "       sentences, sembeddings2, model2)"
   ]
  },
  {
   "cell_type": "code",
   "execution_count": null,
   "id": "a28cfbcc-6e7f-4e6f-983d-2505bf7841f8",
   "metadata": {},
   "outputs": [],
   "source": [
    "search(\"Is the war on Ukraine caused by Russia?\", \n",
    "       sentences, sembeddings2, model2)"
   ]
  },
  {
   "cell_type": "code",
   "execution_count": null,
   "id": "e93888b2-8108-4d8a-a93b-0e17c171d776",
   "metadata": {},
   "outputs": [],
   "source": []
  }
 ],
 "metadata": {
  "kernelspec": {
   "display_name": "Python 3 (ipykernel)",
   "language": "python",
   "name": "python3"
  },
  "language_info": {
   "codemirror_mode": {
    "name": "ipython",
    "version": 3
   },
   "file_extension": ".py",
   "mimetype": "text/x-python",
   "name": "python",
   "nbconvert_exporter": "python",
   "pygments_lexer": "ipython3",
   "version": "3.10.12"
  }
 },
 "nbformat": 4,
 "nbformat_minor": 5
}
