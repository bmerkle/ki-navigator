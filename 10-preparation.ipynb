{
 "cells": [
  {
   "cell_type": "markdown",
   "id": "b64ece1d-7558-4fb6-a98b-ad06283bb898",
   "metadata": {},
   "source": [
    "# Load data"
   ]
  },
  {
   "cell_type": "code",
   "execution_count": 1,
   "id": "1c08c809-10c6-42aa-9a01-0477ca426b2f",
   "metadata": {},
   "outputs": [],
   "source": [
    "import glob\n",
    "import os"
   ]
  },
  {
   "cell_type": "code",
   "execution_count": 2,
   "id": "ef5ecf2e-a314-450a-917b-c4b524aff977",
   "metadata": {},
   "outputs": [],
   "source": [
    "data = []\n",
    "for n in glob.glob(\"un/TXT/Session 77 - 2022/*.txt\"):\n",
    "    data.append({\"country\": os.path.basename(n.replace(\"_77_2022.txt\", \"\")), \"text\": open(n).read() })"
   ]
  },
  {
   "cell_type": "code",
   "execution_count": 3,
   "id": "0112212d-2b8e-4b38-b2c2-333799200b21",
   "metadata": {},
   "outputs": [],
   "source": [
    "import pandas as pd"
   ]
  },
  {
   "cell_type": "code",
   "execution_count": 4,
   "id": "532c4a6c-52d3-4436-9e45-b1e4f870baec",
   "metadata": {},
   "outputs": [
    {
     "data": {
      "text/html": [
       "<div>\n",
       "<style scoped>\n",
       "    .dataframe tbody tr th:only-of-type {\n",
       "        vertical-align: middle;\n",
       "    }\n",
       "\n",
       "    .dataframe tbody tr th {\n",
       "        vertical-align: top;\n",
       "    }\n",
       "\n",
       "    .dataframe thead th {\n",
       "        text-align: right;\n",
       "    }\n",
       "</style>\n",
       "<table border=\"1\" class=\"dataframe\">\n",
       "  <thead>\n",
       "    <tr style=\"text-align: right;\">\n",
       "      <th></th>\n",
       "      <th>country</th>\n",
       "      <th>text</th>\n",
       "    </tr>\n",
       "  </thead>\n",
       "  <tbody>\n",
       "    <tr>\n",
       "      <th>0</th>\n",
       "      <td>TCD</td>\n",
       "      <td>At the outset, I congratulate Mr. Csaba Korosi on his election as President of the General Assembly at its seventy- seventh session and wish him every success in conducting its work. I also pay tribute to Mr. Abdulla Shahid, the outgoing President of the General Assembly, for the dynamism with which he led the work of the seventy-sixth session. I further commend Secretary- General Antonio Guterres and wish him every success at this difficult time of multiple and complex crises throughout the...</td>\n",
       "    </tr>\n",
       "    <tr>\n",
       "      <th>1</th>\n",
       "      <td>SWZ</td>\n",
       "      <td>It is a great honour for me to address this seventy-seventh session of the United Nations General Assembly, where we have once again come together as a community of nations to renew our commitment to implementing the 2030 Agenda for Sustainable Development and its Sustainable Development Goals.\\nWe are meeting at a time when we have just passed through a period of tragedy brought about by the coronavirus disease (COVID-19) pandemic, which has claimed lives all over the world. We thank God th...</td>\n",
       "    </tr>\n",
       "    <tr>\n",
       "      <th>2</th>\n",
       "      <td>NGA</td>\n",
       "      <td>On behalf of the Government and the people of Nigeria, I congratulate the President on his well-deserved election to lead the General Assembly at its seventy-seventh session and assure him of the full support and cooperation of the Nigerian delegation during his tenure. I commend his predecessor, His Excellency Mr. Abdulla Shahid, for the Assembly’s many remarkable achievements under his leadership during these challenging times. I would also like to congratulate the Secretary-General, Mr. A...</td>\n",
       "    </tr>\n",
       "    <tr>\n",
       "      <th>3</th>\n",
       "      <td>PLW</td>\n",
       "      <td>I bring greetings from our President, Mr. Surangel S. Whipps Jr., and the people of Palau.\\nIt is a great pleasure to be able to address the General Assembly and, at the outset, I wish to congratulate the President of the Assembly at its seventy-seventh session, Mr. Csaba Korosi, and pledge Palau’s support\\nduring the course of his term. I also wish to thank the President of the General Assembly at its seventy-sixth session, a fellow islander — from Maldives — who was gracious enough to take...</td>\n",
       "    </tr>\n",
       "    <tr>\n",
       "      <th>4</th>\n",
       "      <td>KEN</td>\n",
       "      <td>I am grateful for the immense privilege of joining everyone here in the General Assembly — a privilege made possible by the peaceful democratic transition that followed the free and fair elections held in Kenya on 9 August. Those elections stand as a testimony of the universal power of democracy, as well as the manifest ability of African peoples to invest in stronger nations and a secure future by using robust institutions, effective constitutions and the impartial administration of the rul...</td>\n",
       "    </tr>\n",
       "    <tr>\n",
       "      <th>...</th>\n",
       "      <td>...</td>\n",
       "      <td>...</td>\n",
       "    </tr>\n",
       "    <tr>\n",
       "      <th>188</th>\n",
       "      <td>MDG</td>\n",
       "      <td>At the outset, allow me to address Mr. Korosi, Director of Environmental Sustainability at the Office of the President of Hungary. His election as President of the General Assembly at its seventy-seventh session sends a clear message about the road mapped out for us by this annual meeting of the United Nations. I offer him my sincere congratulations. I would also like to warmly commend the Secretary-General for his ongoing commitment and dedication at the helm of the United Nations.\\nOn beha...</td>\n",
       "    </tr>\n",
       "    <tr>\n",
       "      <th>189</th>\n",
       "      <td>HTI</td>\n",
       "      <td>Allow me to begin by conveying to the President the warm greetings of the Prime Minister of the Republic of Haiti, His Excellency Mr. Ariel Henry, who had to cancel his participation in the general debate at the last minute because of the sociopolitical situation in the country. I therefore have the honour to read out the address that he was to have made from this rostrum.\\n“I would like to congratulate His Excellency Mr. Csaba Korosi, President of the General Assembly at its seventy-seventh...</td>\n",
       "    </tr>\n",
       "    <tr>\n",
       "      <th>190</th>\n",
       "      <td>FRA</td>\n",
       "      <td>It is an honour for me to speak before the Assembly on behalf of France. At this point in time, I am thinking of those who have fought in my country and everywhere in the world for France to be free. I am also thinking of those for whom, in the past, the fate of Europe was a matter of concern, whether they came from Africa, Asia, Oceania or America, because a part of their freedom and the future of the world was at stake. I am thinking of those who wrote our Charter and built the walls of th...</td>\n",
       "    </tr>\n",
       "    <tr>\n",
       "      <th>191</th>\n",
       "      <td>BGD</td>\n",
       "      <td>I heartily congratulate Mr. Csaba Korosi on his election as President of the General Assembly at its seventy- seventh session. I assure him of my delegation’s full cooperation throughout the session. I also commend his predecessor, His Excellency Mr. Abdulla Shahid. I would like to express my deep appreciation to Secretary-General Antonio Guterres for his strong commitment to making the United Nations more vibrant in its responsibilities.\\nThe theme of this year’s general debate is “A waters...</td>\n",
       "    </tr>\n",
       "    <tr>\n",
       "      <th>192</th>\n",
       "      <td>GBR</td>\n",
       "      <td>At the time of its foundation, the United Nations was a beacon of promise. In the aftermath of the Second World War, the building we are in symbolized the end of aggression. For many decades, the United Nations has helped to deliver stability and security in much of the world. It has provided a place for nations to work together on shared challenges, and it has promoted the principles of sovereignty and self-determination even through the Cold War and its aftermath. But today those principle...</td>\n",
       "    </tr>\n",
       "  </tbody>\n",
       "</table>\n",
       "<p>193 rows × 2 columns</p>\n",
       "</div>"
      ],
      "text/plain": [
       "    country  \\\n",
       "0       TCD   \n",
       "1       SWZ   \n",
       "2       NGA   \n",
       "3       PLW   \n",
       "4       KEN   \n",
       "..      ...   \n",
       "188     MDG   \n",
       "189     HTI   \n",
       "190     FRA   \n",
       "191     BGD   \n",
       "192     GBR   \n",
       "\n",
       "                                                                                                                                                                                                                                                                                                                                                                                                                                                                                                                    text  \n",
       "0    At the outset, I congratulate Mr. Csaba Korosi on his election as President of the General Assembly at its seventy- seventh session and wish him every success in conducting its work. I also pay tribute to Mr. Abdulla Shahid, the outgoing President of the General Assembly, for the dynamism with which he led the work of the seventy-sixth session. I further commend Secretary- General Antonio Guterres and wish him every success at this difficult time of multiple and complex crises throughout the...  \n",
       "1    It is a great honour for me to address this seventy-seventh session of the United Nations General Assembly, where we have once again come together as a community of nations to renew our commitment to implementing the 2030 Agenda for Sustainable Development and its Sustainable Development Goals.\\nWe are meeting at a time when we have just passed through a period of tragedy brought about by the coronavirus disease (COVID-19) pandemic, which has claimed lives all over the world. We thank God th...  \n",
       "2    On behalf of the Government and the people of Nigeria, I congratulate the President on his well-deserved election to lead the General Assembly at its seventy-seventh session and assure him of the full support and cooperation of the Nigerian delegation during his tenure. I commend his predecessor, His Excellency Mr. Abdulla Shahid, for the Assembly’s many remarkable achievements under his leadership during these challenging times. I would also like to congratulate the Secretary-General, Mr. A...  \n",
       "3    I bring greetings from our President, Mr. Surangel S. Whipps Jr., and the people of Palau.\\nIt is a great pleasure to be able to address the General Assembly and, at the outset, I wish to congratulate the President of the Assembly at its seventy-seventh session, Mr. Csaba Korosi, and pledge Palau’s support\\nduring the course of his term. I also wish to thank the President of the General Assembly at its seventy-sixth session, a fellow islander — from Maldives — who was gracious enough to take...  \n",
       "4    I am grateful for the immense privilege of joining everyone here in the General Assembly — a privilege made possible by the peaceful democratic transition that followed the free and fair elections held in Kenya on 9 August. Those elections stand as a testimony of the universal power of democracy, as well as the manifest ability of African peoples to invest in stronger nations and a secure future by using robust institutions, effective constitutions and the impartial administration of the rul...  \n",
       "..                                                                                                                                                                                                                                                                                                                                                                                                                                                                                                                   ...  \n",
       "188  At the outset, allow me to address Mr. Korosi, Director of Environmental Sustainability at the Office of the President of Hungary. His election as President of the General Assembly at its seventy-seventh session sends a clear message about the road mapped out for us by this annual meeting of the United Nations. I offer him my sincere congratulations. I would also like to warmly commend the Secretary-General for his ongoing commitment and dedication at the helm of the United Nations.\\nOn beha...  \n",
       "189  Allow me to begin by conveying to the President the warm greetings of the Prime Minister of the Republic of Haiti, His Excellency Mr. Ariel Henry, who had to cancel his participation in the general debate at the last minute because of the sociopolitical situation in the country. I therefore have the honour to read out the address that he was to have made from this rostrum.\\n“I would like to congratulate His Excellency Mr. Csaba Korosi, President of the General Assembly at its seventy-seventh...  \n",
       "190  It is an honour for me to speak before the Assembly on behalf of France. At this point in time, I am thinking of those who have fought in my country and everywhere in the world for France to be free. I am also thinking of those for whom, in the past, the fate of Europe was a matter of concern, whether they came from Africa, Asia, Oceania or America, because a part of their freedom and the future of the world was at stake. I am thinking of those who wrote our Charter and built the walls of th...  \n",
       "191  I heartily congratulate Mr. Csaba Korosi on his election as President of the General Assembly at its seventy- seventh session. I assure him of my delegation’s full cooperation throughout the session. I also commend his predecessor, His Excellency Mr. Abdulla Shahid. I would like to express my deep appreciation to Secretary-General Antonio Guterres for his strong commitment to making the United Nations more vibrant in its responsibilities.\\nThe theme of this year’s general debate is “A waters...  \n",
       "192  At the time of its foundation, the United Nations was a beacon of promise. In the aftermath of the Second World War, the building we are in symbolized the end of aggression. For many decades, the United Nations has helped to deliver stability and security in much of the world. It has provided a place for nations to work together on shared challenges, and it has promoted the principles of sovereignty and self-determination even through the Cold War and its aftermath. But today those principle...  \n",
       "\n",
       "[193 rows x 2 columns]"
      ]
     },
     "execution_count": 4,
     "metadata": {},
     "output_type": "execute_result"
    }
   ],
   "source": [
    "pd.set_option('display.max_colwidth', 500)\n",
    "df = pd.DataFrame(data)\n",
    "df"
   ]
  },
  {
   "cell_type": "markdown",
   "id": "09eb4820-19d9-4dbf-9690-d62a2df94c59",
   "metadata": {},
   "source": [
    "# Sentence segmentation"
   ]
  },
  {
   "cell_type": "code",
   "execution_count": 5,
   "id": "33e32ba2-bd5e-40cc-bf91-4fe46de6a0ba",
   "metadata": {},
   "outputs": [],
   "source": [
    "import spacy"
   ]
  },
  {
   "cell_type": "code",
   "execution_count": null,
   "id": "3232940b-b7f3-45d1-9933-e86b5a4eff56",
   "metadata": {},
   "outputs": [],
   "source": [
    "!python -m spacy download en_core_web_sm"
   ]
  },
  {
   "cell_type": "code",
   "execution_count": 6,
   "id": "5891c67e-f9bd-496c-b4aa-a4d904cbe3d7",
   "metadata": {},
   "outputs": [],
   "source": [
    "nlp = spacy.load(\"en_core_web_sm\")"
   ]
  },
  {
   "cell_type": "code",
   "execution_count": 7,
   "id": "73cb5d77-1257-4e77-9ff7-638614016a62",
   "metadata": {},
   "outputs": [],
   "source": [
    "from tqdm.auto import tqdm"
   ]
  },
  {
   "cell_type": "code",
   "execution_count": 8,
   "id": "202f62ea-b081-4e3d-9719-5d934b566649",
   "metadata": {},
   "outputs": [
    {
     "data": {
      "application/vnd.jupyter.widget-view+json": {
       "model_id": "566aa6f422f64fadbae770d9be75c84d",
       "version_major": 2,
       "version_minor": 0
      },
      "text/plain": [
       "  0%|          | 0/193 [00:00<?, ?it/s]"
      ]
     },
     "metadata": {},
     "output_type": "display_data"
    }
   ],
   "source": [
    "# runs 30 seconds or so\n",
    "sentences = []\n",
    "for text in tqdm(df[\"text\"]):\n",
    "    doc = nlp(text)\n",
    "    for sentence in doc.sents:\n",
    "        sentences.append(str(sentence).strip())"
   ]
  },
  {
   "cell_type": "code",
   "execution_count": 9,
   "id": "8d67a487-962e-4e91-ad7b-2aa87309c647",
   "metadata": {},
   "outputs": [
    {
     "data": {
      "text/plain": [
       "['At the outset, I congratulate Mr. Csaba Korosi on his election as President of the General Assembly at its seventy- seventh session and wish him every success in conducting its work.',\n",
       " 'I also pay tribute to Mr. Abdulla Shahid, the outgoing President of the General Assembly, for the dynamism with which he led the work of the seventy-sixth session.',\n",
       " 'I further commend Secretary- General Antonio Guterres and wish him every success at this difficult time of multiple and complex crises throughout the world.',\n",
       " 'We reiterate to him Chad’s full friendship and support.',\n",
       " 'The seventy-seventh session, whose theme is “A watershed moment: transformative solutions to interlocking challenges”, is taking place at a time when humankind is facing a multitude of challenges unprecedented since the creation of our Organization.',\n",
       " 'They are serious, complex and successive challenges to our collective efforts and difficult to address.',\n",
       " 'The current international order, based on the Charter of the United Nations, is being severely tested, for instance, by the geopolitical tensions in several parts of our planet, including those caused by the ongoing war in Ukraine, with its impact on the affected civilian populations and on the entire world at the economic, food security and energy supply levels.',\n",
       " 'One of the difficult experiences we have faced was the outbreak of the coronavirus disease (COVID-19) pandemic that plunged our lives into a state of great upheaval.',\n",
       " 'Today the world is struggling to recover from the shock of COVID-19.',\n",
       " 'We have lived through that unprecedented challenge, enduring the loss of millions of human lives and its adverse health, social and economic consequences.',\n",
       " 'The recent lull in the situation should not lead us to relax; rather, it should prompt us to further consolidate the multilateral cooperation we witnessed when States and organizations came together and supported each other to overcome the scourge.',\n",
       " 'We hope to see a further consolidation of that multilateral cooperation, particularly in addressing other persistent and recurrent crises and challenges such as wars, terrorism, climate change, health and food crises and poverty.',\n",
       " 'This session is therefore an opportunity to reaffirm our commitment to the principles and purposes of the Charter of the United Nations and to reiterate our collective commitment to realizing them, in particular through the implementation of the recommendations made in the declaration on the commemoration of the seventy-fifth anniversary of the United Nations (resolution 75/1).',\n",
       " 'The time has come to take practical measures to achieve those objectives by correcting the many mistakes that have led to the recurrent problems hindering the work of the international community and preventing the full realization of the promises contained in the Charter.',\n",
       " 'In that regard, the Secretary-General’s Our Common Agenda initiative, which is an action plan aimed at strengthening and accelerating the implementation of multilateral agreements, in particular the 2030 Agenda for Sustainable Development, and making a concrete difference in the lives of people, is particularly welcome.',\n",
       " 'It is indeed an important step in the right direction.',\n",
       " 'Chad fully supports the initiative and hopes that it will lead to the promotion, strengthening and prioritization of multiple concrete solutions to the major challenges of our time and have a real impact on the lives of the people, particularly those in poor countries, rather than being a sham of multilateralism that is limited only to lengthy statements that have no real effect.',\n",
       " 'In that regard, it is clear that seven years after the adoption of the 2030 Agenda and three years since its proclamation here in New York, the results of implementing the Sustainable Development Goals are still far from being achieved, especially for poor countries.',\n",
       " 'As the Secretary-General’s reports on that issue have mentioned, those goals will not be met, and many people will be left behind, if bold action is not taken.',\n",
       " 'Unfortunately, a downward spiral may be set off and cause disappointment in the hearts of millions of people around the world.']"
      ]
     },
     "execution_count": 9,
     "metadata": {},
     "output_type": "execute_result"
    }
   ],
   "source": [
    "sentences[0:20]"
   ]
  },
  {
   "cell_type": "code",
   "execution_count": null,
   "id": "d348e426-7359-41c3-a06b-8919d0587d56",
   "metadata": {},
   "outputs": [],
   "source": [
    "len(sentences)"
   ]
  },
  {
   "cell_type": "code",
   "execution_count": null,
   "id": "2aefb111-d258-4247-ae4b-6507e8583854",
   "metadata": {},
   "outputs": [],
   "source": [
    "open(\"sentences.txt\", \"w\").write(\"@@@\".join(sentences))"
   ]
  }
 ],
 "metadata": {
  "kernelspec": {
   "display_name": "Python 3 (ipykernel)",
   "language": "python",
   "name": "python3"
  },
  "language_info": {
   "codemirror_mode": {
    "name": "ipython",
    "version": 3
   },
   "file_extension": ".py",
   "mimetype": "text/x-python",
   "name": "python",
   "nbconvert_exporter": "python",
   "pygments_lexer": "ipython3",
   "version": "3.10.12"
  }
 },
 "nbformat": 4,
 "nbformat_minor": 5
}
