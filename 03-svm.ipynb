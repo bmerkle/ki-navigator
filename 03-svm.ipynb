{
 "cells": [
  {
   "cell_type": "markdown",
   "metadata": {
    "id": "ftsaWyMWgML8"
   },
   "source": [
    "# SVM-Klassifikation der Heise-Newsticker-Meldungen"
   ]
  },
  {
   "cell_type": "markdown",
   "metadata": {
    "id": "JSx16UvigML9"
   },
   "source": [
    "Kontakt: christian.winkler@datanizing.com"
   ]
  },
  {
   "cell_type": "code",
   "execution_count": null,
   "metadata": {
    "id": "0tGKaIeYgkny"
   },
   "outputs": [],
   "source": [
    "!test -f newsticker-2022-2023-good-bad.csv.gz || wget https://github.com/datanizing/m3-llm-workshop/raw/main/newsticker-2022-2023-good-bad.csv.gz"
   ]
  },
  {
   "cell_type": "code",
   "execution_count": 1,
   "metadata": {
    "id": "H4pMhLJZgMMG"
   },
   "outputs": [],
   "source": [
    "import pandas as pd\n",
    "\n",
    "df = pd.read_csv(\"newsticker-2022-2023-good-bad.csv.gz\", index_col=\"id\")"
   ]
  },
  {
   "cell_type": "code",
   "execution_count": 2,
   "metadata": {
    "id": "g0hrvTB7gMMJ"
   },
   "outputs": [
    {
     "data": {
      "text/html": [
       "<div>\n",
       "<style scoped>\n",
       "    .dataframe tbody tr th:only-of-type {\n",
       "        vertical-align: middle;\n",
       "    }\n",
       "\n",
       "    .dataframe tbody tr th {\n",
       "        vertical-align: top;\n",
       "    }\n",
       "\n",
       "    .dataframe thead th {\n",
       "        text-align: right;\n",
       "    }\n",
       "</style>\n",
       "<table border=\"1\" class=\"dataframe\">\n",
       "  <thead>\n",
       "    <tr style=\"text-align: right;\">\n",
       "      <th></th>\n",
       "      <th>headline</th>\n",
       "      <th>comments</th>\n",
       "      <th>time</th>\n",
       "      <th>quality</th>\n",
       "      <th>label</th>\n",
       "    </tr>\n",
       "    <tr>\n",
       "      <th>id</th>\n",
       "      <th></th>\n",
       "      <th></th>\n",
       "      <th></th>\n",
       "      <th></th>\n",
       "      <th></th>\n",
       "    </tr>\n",
       "  </thead>\n",
       "  <tbody>\n",
       "    <tr>\n",
       "      <th>6233916</th>\n",
       "      <td>Zentrum für KI in der Medizin ​soll für modern...</td>\n",
       "      <td>1.0</td>\n",
       "      <td>2023-11-16 09:20:00.000000</td>\n",
       "      <td>bad</td>\n",
       "      <td>0</td>\n",
       "    </tr>\n",
       "    <tr>\n",
       "      <th>6266836</th>\n",
       "      <td>Bericht: Höchststand bei Anschlägen auf Geldau...</td>\n",
       "      <td>132.0</td>\n",
       "      <td>2022-12-03 17:17:00.000000</td>\n",
       "      <td>good</td>\n",
       "      <td>1</td>\n",
       "    </tr>\n",
       "    <tr>\n",
       "      <th>6287308</th>\n",
       "      <td>Werkstattberichte: Neues aus den Fablabs und d...</td>\n",
       "      <td>2.0</td>\n",
       "      <td>2022-01-18 10:07:00.000000</td>\n",
       "      <td>bad</td>\n",
       "      <td>0</td>\n",
       "    </tr>\n",
       "    <tr>\n",
       "      <th>6315231</th>\n",
       "      <td>Apple wünscht sich mehr Bluetooth-Bandbreite</td>\n",
       "      <td>109.0</td>\n",
       "      <td>2022-01-03 13:38:00.000000</td>\n",
       "      <td>good</td>\n",
       "      <td>1</td>\n",
       "    </tr>\n",
       "    <tr>\n",
       "      <th>6315548</th>\n",
       "      <td>HoloLens Summit: virtuelle Konferenz für Anwen...</td>\n",
       "      <td>1.0</td>\n",
       "      <td>2022-01-01 12:05:00.000000</td>\n",
       "      <td>bad</td>\n",
       "      <td>0</td>\n",
       "    </tr>\n",
       "  </tbody>\n",
       "</table>\n",
       "</div>"
      ],
      "text/plain": [
       "                                                  headline  comments  \\\n",
       "id                                                                     \n",
       "6233916  Zentrum für KI in der Medizin ​soll für modern...       1.0   \n",
       "6266836  Bericht: Höchststand bei Anschlägen auf Geldau...     132.0   \n",
       "6287308  Werkstattberichte: Neues aus den Fablabs und d...       2.0   \n",
       "6315231       Apple wünscht sich mehr Bluetooth-Bandbreite     109.0   \n",
       "6315548  HoloLens Summit: virtuelle Konferenz für Anwen...       1.0   \n",
       "\n",
       "                               time quality  label  \n",
       "id                                                  \n",
       "6233916  2023-11-16 09:20:00.000000     bad      0  \n",
       "6266836  2022-12-03 17:17:00.000000    good      1  \n",
       "6287308  2022-01-18 10:07:00.000000     bad      0  \n",
       "6315231  2022-01-03 13:38:00.000000    good      1  \n",
       "6315548  2022-01-01 12:05:00.000000     bad      0  "
      ]
     },
     "execution_count": 2,
     "metadata": {},
     "output_type": "execute_result"
    }
   ],
   "source": [
    "# Labels auf Integer wandeln\n",
    "df[\"label\"] = 0\n",
    "df.loc[df[\"quality\"] == \"good\", \"label\"] = 1\n",
    "df.head()"
   ]
  },
  {
   "cell_type": "code",
   "execution_count": 3,
   "metadata": {},
   "outputs": [
    {
     "data": {
      "text/plain": [
       "<13306x13086 sparse matrix of type '<class 'numpy.float64'>'\n",
       "\twith 85414 stored elements in Compressed Sparse Row format>"
      ]
     },
     "execution_count": 3,
     "metadata": {},
     "output_type": "execute_result"
    }
   ],
   "source": [
    "from sklearn.feature_extraction.text import TfidfVectorizer\n",
    "from spacy.lang.de.stop_words import STOP_WORDS as stop_words\n",
    "tfidf_vectorizer = TfidfVectorizer(stop_words=list(stop_words), min_df=2, ngram_range=(1,2))\n",
    "tfidf_vectors = tfidf_vectorizer.fit_transform(df[\"headline\"])\n",
    "tfidf_vectors"
   ]
  },
  {
   "cell_type": "code",
   "execution_count": 4,
   "metadata": {},
   "outputs": [],
   "source": [
    "from sklearn.model_selection import train_test_split\n",
    "(X_train, X_test, y_train, y_test) = train_test_split(tfidf_vectors, df[\"label\"].values, \n",
    "                                                      train_size=0.75, random_state=42,\n",
    "                                                      stratify=df[\"label\"].values)"
   ]
  },
  {
   "cell_type": "code",
   "execution_count": 5,
   "metadata": {},
   "outputs": [],
   "source": [
    "from sklearn.svm import SVC\n",
    "svm = SVC()\n",
    "svc = svm.fit(X_train, y_train)"
   ]
  },
  {
   "cell_type": "code",
   "execution_count": 10,
   "metadata": {},
   "outputs": [],
   "source": [
    "from sklearn.naive_bayes import MultinomialNB"
   ]
  },
  {
   "cell_type": "code",
   "execution_count": 11,
   "metadata": {},
   "outputs": [],
   "source": [
    "nb = MultinomialNB()\n",
    "svc = nb.fit(X_train, y_train)"
   ]
  },
  {
   "cell_type": "code",
   "execution_count": null,
   "metadata": {},
   "outputs": [],
   "source": []
  },
  {
   "cell_type": "code",
   "execution_count": 12,
   "metadata": {},
   "outputs": [],
   "source": [
    "pred_test  = svc.predict(X_test)"
   ]
  },
  {
   "cell_type": "code",
   "execution_count": 13,
   "metadata": {},
   "outputs": [
    {
     "data": {
      "text/plain": [
       "array([[1002,  472],\n",
       "       [ 301, 1552]])"
      ]
     },
     "execution_count": 13,
     "metadata": {},
     "output_type": "execute_result"
    }
   ],
   "source": [
    "from sklearn.metrics import confusion_matrix\n",
    "confusion_matrix(y_test, pred_test)"
   ]
  },
  {
   "cell_type": "code",
   "execution_count": 14,
   "metadata": {},
   "outputs": [
    {
     "data": {
      "text/plain": [
       "<AxesSubplot:>"
      ]
     },
     "execution_count": 14,
     "metadata": {},
     "output_type": "execute_result"
    },
    {
     "data": {
      "image/png": "[encoded data removed]",
      "text/plain": [
       "<Figure size 720x576 with 2 Axes>"
      ]
     },
     "metadata": {
      "needs_background": "light"
     },
     "output_type": "display_data"
    }
   ],
   "source": [
    "import seaborn as sns\n",
    "import matplotlib.pyplot as plt\n",
    "plt.figure(figsize=(10,8))\n",
    "sns.heatmap(confusion_matrix(y_test, pred_test), annot=True)"
   ]
  },
  {
   "cell_type": "code",
   "execution_count": 15,
   "metadata": {},
   "outputs": [
    {
     "name": "stdout",
     "output_type": "stream",
     "text": [
      "              precision    recall  f1-score   support\n",
      "\n",
      "           0       0.77      0.68      0.72      1474\n",
      "           1       0.77      0.84      0.80      1853\n",
      "\n",
      "    accuracy                           0.77      3327\n",
      "   macro avg       0.77      0.76      0.76      3327\n",
      "weighted avg       0.77      0.77      0.77      3327\n",
      "\n"
     ]
    }
   ],
   "source": [
    "from sklearn.metrics import classification_report\n",
    "print(classification_report(y_test, pred_test))"
   ]
  },
  {
   "cell_type": "code",
   "execution_count": null,
   "metadata": {},
   "outputs": [],
   "source": []
  }
 ],
 "metadata": {
  "accelerator": "GPU",
  "colab": {
   "name": "BERT classification heise ticker",
   "provenance": []
  },
  "kernelspec": {
   "display_name": "Python 3 (ipykernel)",
   "language": "python",
   "name": "python3"
  },
  "language_info": {
   "codemirror_mode": {
    "name": "ipython",
    "version": 3
   },
   "file_extension": ".py",
   "mimetype": "text/x-python",
   "name": "python",
   "nbconvert_exporter": "python",
   "pygments_lexer": "ipython3",
   "version": "3.10.12"
  }
 },
 "nbformat": 4,
 "nbformat_minor": 1
}
