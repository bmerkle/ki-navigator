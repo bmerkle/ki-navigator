{
 "cells": [
  {
   "cell_type": "code",
   "execution_count": null,
   "id": "5ec2c0ea",
   "metadata": {},
   "outputs": [],
   "source": [
    "!pip install accelerate"
   ]
  },
  {
   "cell_type": "code",
   "execution_count": 1,
   "id": "f8ea24e0",
   "metadata": {},
   "outputs": [],
   "source": [
    "from transformers import AutoModelForCausalLM, AutoTokenizer, pipeline"
   ]
  },
  {
   "cell_type": "code",
   "execution_count": 2,
   "id": "731ccebd",
   "metadata": {},
   "outputs": [
    {
     "data": {
      "application/vnd.jupyter.widget-view+json": {
       "model_id": "1882020c0ba045b28afc82d9ff0b7ca1",
       "version_major": 2,
       "version_minor": 0
      },
      "text/plain": [
       "Loading checkpoint shards:   0%|          | 0/3 [00:00<?, ?it/s]"
      ]
     },
     "metadata": {},
     "output_type": "display_data"
    }
   ],
   "source": [
    "import torch\n",
    "\n",
    "model_name_or_path = \"mistralai/Mistral-7B-Instruct-v0.2\"\n",
    "\n",
    "model = AutoModelForCausalLM.from_pretrained(model_name_or_path,\n",
    "                                             device_map=\"auto\",\n",
    "                                             torch_dtype=torch.bfloat16)\n",
    "\n",
    "tokenizer = AutoTokenizer.from_pretrained(model_name_or_path, use_fast=True)"
   ]
  },
  {
   "cell_type": "code",
   "execution_count": 3,
   "id": "ac49f5ba",
   "metadata": {},
   "outputs": [
    {
     "name": "stderr",
     "output_type": "stream",
     "text": [
      "The attention mask and the pad token id were not set. As a consequence, you may observe unexpected behavior. Please pass your input's `attention_mask` to obtain reliable results.\n",
      "Setting `pad_token_id` to `eos_token_id`:2 for open-end generation.\n"
     ]
    },
    {
     "name": "stdout",
     "output_type": "stream",
     "text": [
      "\n",
      "\n",
      "*** Generate:\n",
      "<s><s> [INST] Explain Heise Zeitschriftenverlag [/INST]\n",
      "\n",
      "Heise Zeitschriftenverlag is a German publishing company that specializes in producing high-quality scientific, technical, and IT publications. The company was founded in 1949 in Hanover, Germany, by Horst Heise, and it has since grown to become one of the leading scientific publishers in Europe.\n",
      "\n",
      "Heise Zeitschriftenverlag publishes a wide range of peer-reviewed journals, books, and online resources in various fields, including computer science, mathematics, physics, engineering, and environmental sciences. Some of its most well-known publications include the monthly computer science magazine \"c't,\" the scientific journal \"Zeitschrift für Angewandte Mathematik und Mechanik,\" and the annual conference proceedings of the German Conference on Artificial Intelligence (KI).\n",
      "\n",
      "The company's publishing model is based on a subscription-based system, where customers pay an annual fee to access the content of its journals and other publications. Heise Zeitschriftenverlag also offers online platforms for its publications, making it easier for researchers and professionals to access the latest research and information in their fields.\n",
      "\n",
      "Heise Zeitschriftenverlag is known for its rigorous peer-review process, which ensures that all published content meets the highest standards of scientific and technical excellence. The company's publications are widely recognized and respected within their respective fields, making them valuable resources for researchers, professionals, and students.\n",
      "\n",
      "In addition to its publishing activities, Heise Zeitschriftenverlag also provides various services to the scientific and research community, including open access publishing, language editing, and marketing and distribution services. The company's goal is to support the dissemination of scientific knowledge and facilitate the exchange of ideas and research findings among experts and the wider public.</s>\n",
      "CPU times: user 9.07 s, sys: 59.3 ms, total: 9.13 s\n",
      "Wall time: 9.31 s\n"
     ]
    }
   ],
   "source": [
    "%%time\n",
    "prompt = \"Explain Heise Zeitschriftenverlag\"\n",
    "prompt_template=f'''<s>[INST] {prompt} [/INST]\n",
    "'''\n",
    "\n",
    "print(\"\\n\\n*** Generate:\")\n",
    "\n",
    "input_ids = tokenizer(prompt_template, return_tensors='pt').input_ids.cuda()\n",
    "output = model.generate(inputs=input_ids, temperature=0.7, do_sample=True, top_p=0.95, top_k=40, max_new_tokens=512)\n",
    "print(tokenizer.decode(output[0]))"
   ]
  },
  {
   "cell_type": "code",
   "execution_count": null,
   "id": "fa3cbc84",
   "metadata": {},
   "outputs": [],
   "source": [
    "!nvidia-smi"
   ]
  },
  {
   "cell_type": "code",
   "execution_count": null,
   "id": "48dada14",
   "metadata": {},
   "outputs": [],
   "source": []
  }
 ],
 "metadata": {
  "kernelspec": {
   "display_name": "Python 3 (ipykernel)",
   "language": "python",
   "name": "python3"
  },
  "language_info": {
   "codemirror_mode": {
    "name": "ipython",
    "version": 3
   },
   "file_extension": ".py",
   "mimetype": "text/x-python",
   "name": "python",
   "nbconvert_exporter": "python",
   "pygments_lexer": "ipython3",
   "version": "3.10.12"
  }
 },
 "nbformat": 4,
 "nbformat_minor": 5
}
