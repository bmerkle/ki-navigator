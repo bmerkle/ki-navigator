{
 "cells": [
  {
   "cell_type": "markdown",
   "metadata": {},
   "source": [
    "# SQL und statistische Analyse"
   ]
  },
  {
   "cell_type": "code",
   "execution_count": 1,
   "metadata": {},
   "outputs": [],
   "source": [
    "import pandas as pd\n",
    "import sqlite3\n",
    "\n",
    "sql = sqlite3.connect(\"../newsticker.db\")"
   ]
  },
  {
   "cell_type": "code",
   "execution_count": 2,
   "metadata": {},
   "outputs": [],
   "source": [
    "docs = pd.read_sql(\"SELECT * FROM news\", sql)"
   ]
  },
  {
   "cell_type": "code",
   "execution_count": 3,
   "metadata": {},
   "outputs": [
    {
     "data": {
      "text/plain": [
       "'2023-12-31 18:30:00.000000'"
      ]
     },
     "execution_count": 3,
     "metadata": {},
     "output_type": "execute_result"
    }
   ],
   "source": [
    "docs[\"time\"].max()"
   ]
  },
  {
   "cell_type": "code",
   "execution_count": 4,
   "metadata": {},
   "outputs": [
    {
     "data": {
      "text/html": [
       "<div>\n",
       "<style scoped>\n",
       "    .dataframe tbody tr th:only-of-type {\n",
       "        vertical-align: middle;\n",
       "    }\n",
       "\n",
       "    .dataframe tbody tr th {\n",
       "        vertical-align: top;\n",
       "    }\n",
       "\n",
       "    .dataframe thead th {\n",
       "        text-align: right;\n",
       "    }\n",
       "</style>\n",
       "<table border=\"1\" class=\"dataframe\">\n",
       "  <thead>\n",
       "    <tr style=\"text-align: right;\">\n",
       "      <th></th>\n",
       "      <th>id</th>\n",
       "      <th>headline</th>\n",
       "      <th>author</th>\n",
       "      <th>time</th>\n",
       "      <th>lead</th>\n",
       "      <th>text</th>\n",
       "      <th>comments</th>\n",
       "      <th>security</th>\n",
       "      <th>url</th>\n",
       "    </tr>\n",
       "  </thead>\n",
       "  <tbody>\n",
       "    <tr>\n",
       "      <th>1</th>\n",
       "      <td>2023</td>\n",
       "      <td></td>\n",
       "      <td></td>\n",
       "      <td>2023-05-30 14:08:12.000000</td>\n",
       "      <td></td>\n",
       "      <td></td>\n",
       "      <td>NaN</td>\n",
       "      <td>None</td>\n",
       "      <td>https://t3n.de/news/eu-regelungen-gender-pay-g...</td>\n",
       "    </tr>\n",
       "    <tr>\n",
       "      <th>227624</th>\n",
       "      <td>6175683</td>\n",
       "      <td>Geelys Geespace startet erste Satelliten für s...</td>\n",
       "      <td>Daniel AJ Sokolov</td>\n",
       "      <td>2022-06-03 05:04:00.000000</td>\n",
       "      <td>240 LEO-Satelliten sollen autonomen Geely-Auto...</td>\n",
       "      <td>Geespace hat den Aufbau eines erdnahen Satelli...</td>\n",
       "      <td>10.0</td>\n",
       "      <td>None</td>\n",
       "      <td>/news/Geelys-Geespace-startet-erste-Satelliten...</td>\n",
       "    </tr>\n",
       "    <tr>\n",
       "      <th>229555</th>\n",
       "      <td>6233916</td>\n",
       "      <td>Zentrum für KI in der Medizin ​soll für modern...</td>\n",
       "      <td>Marie-Claire Koch</td>\n",
       "      <td>2023-11-16 09:20:00.000000</td>\n",
       "      <td>In Niedersachsen soll ein neues Forschungszent...</td>\n",
       "      <td>In Niedersachsen entsteht ein Forschungszentru...</td>\n",
       "      <td>1.0</td>\n",
       "      <td>None</td>\n",
       "      <td>/news/Zentrum-fuer-KI-in-der-Medizin-soll-fuer...</td>\n",
       "    </tr>\n",
       "    <tr>\n",
       "      <th>230160</th>\n",
       "      <td>6266836</td>\n",
       "      <td>Bericht: Höchststand bei Anschlägen auf Geldau...</td>\n",
       "      <td>dpa</td>\n",
       "      <td>2022-12-03 17:17:00.000000</td>\n",
       "      <td>Kriminelle verüben immer mehr Anschläge auf Ge...</td>\n",
       "      <td>Rund 450 Geldautomaten in Deutschland sind ein...</td>\n",
       "      <td>132.0</td>\n",
       "      <td>None</td>\n",
       "      <td>/news/Bericht-Hoechststand-bei-Anschlaegen-auf...</td>\n",
       "    </tr>\n",
       "    <tr>\n",
       "      <th>230590</th>\n",
       "      <td>6278959</td>\n",
       "      <td>Grenzenlose Überwachung oder notwendiger Kinde...</td>\n",
       "      <td>Keywan Tonekaboni</td>\n",
       "      <td>2022-01-08 06:30:00.000000</td>\n",
       "      <td>Content-Scanner suchen Social-Media-Plattforme...</td>\n",
       "      <td>Facebook, Google oder Microsoft nutzen Content...</td>\n",
       "      <td>49.0</td>\n",
       "      <td>None</td>\n",
       "      <td>/news/Grenzenlose-Ueberwachung-oder-notwendige...</td>\n",
       "    </tr>\n",
       "    <tr>\n",
       "      <th>...</th>\n",
       "      <td>...</td>\n",
       "      <td>...</td>\n",
       "      <td>...</td>\n",
       "      <td>...</td>\n",
       "      <td>...</td>\n",
       "      <td>...</td>\n",
       "      <td>...</td>\n",
       "      <td>...</td>\n",
       "      <td>...</td>\n",
       "    </tr>\n",
       "    <tr>\n",
       "      <th>256422</th>\n",
       "      <td>9584404</td>\n",
       "      <td>Stalking mit Bluetooth-Trackern: Landesministe...</td>\n",
       "      <td>dpa</td>\n",
       "      <td>2023-12-31 14:10:00.000000</td>\n",
       "      <td>Mit winzigen Bluetooth-Ortungsgeräten können S...</td>\n",
       "      <td>Mit scheibenförmigen Ortungsgeräten so klein w...</td>\n",
       "      <td>27.0</td>\n",
       "      <td>None</td>\n",
       "      <td>/news/Stalking-mit-Bluetooth-Trackern-Landesmi...</td>\n",
       "    </tr>\n",
       "    <tr>\n",
       "      <th>256423</th>\n",
       "      <td>9584447</td>\n",
       "      <td>EU-Vorschlag: Selbstverpflichtung statt Cookie...</td>\n",
       "      <td>Benjamin Kraft</td>\n",
       "      <td>2023-12-31 15:35:00.000000</td>\n",
       "      <td>Cookie-Banner sind gut für den Datenschutz, ab...</td>\n",
       "      <td>Datenschutz im Internet ist nervig: Beim erste...</td>\n",
       "      <td>100.0</td>\n",
       "      <td>None</td>\n",
       "      <td>/news/EU-Vorschlag-Selbstverpflichtung-statt-C...</td>\n",
       "    </tr>\n",
       "    <tr>\n",
       "      <th>256424</th>\n",
       "      <td>9584467</td>\n",
       "      <td>Neue Lücke in altem E-Mail-Protokoll: SMTP smu...</td>\n",
       "      <td>Peter Siering</td>\n",
       "      <td>2023-12-31 16:14:00.000000</td>\n",
       "      <td>Sicherheitsforscher haben eine Schwäche im Sim...</td>\n",
       "      <td>Wenn heute E-Mails durchs Internet flutschen, ...</td>\n",
       "      <td>181.0</td>\n",
       "      <td>None</td>\n",
       "      <td>/news/Neue-Luecke-in-altem-E-Mail-Protokoll-SM...</td>\n",
       "    </tr>\n",
       "    <tr>\n",
       "      <th>256425</th>\n",
       "      <td>9584487</td>\n",
       "      <td>Elektronische Krankschreibungen: 6,8 Millionen...</td>\n",
       "      <td>Marie-Claire Koch</td>\n",
       "      <td>2023-12-31 16:43:00.000000</td>\n",
       "      <td>Mit mehr als 80 Millionen abgerufenen Exemplar...</td>\n",
       "      <td>Monatlich wurden im Jahr 2023 durchschnittlich...</td>\n",
       "      <td>23.0</td>\n",
       "      <td>None</td>\n",
       "      <td>/news/Elektronische-Krankschreibungen-6-8-Mill...</td>\n",
       "    </tr>\n",
       "    <tr>\n",
       "      <th>256426</th>\n",
       "      <td>9584495</td>\n",
       "      <td>Briten entwickeln Bio-Kerosin aus menschlichen...</td>\n",
       "      <td>Benjamin Kraft</td>\n",
       "      <td>2023-12-31 17:31:00.000000</td>\n",
       "      <td>Ein britisches Unternehmen arbeitet an CO₂-neu...</td>\n",
       "      <td>Fliegen ist schlecht für die Umwelt, weil dabe...</td>\n",
       "      <td>136.0</td>\n",
       "      <td>None</td>\n",
       "      <td>/news/Briten-entwickeln-Bio-Kerosin-aus-mensch...</td>\n",
       "    </tr>\n",
       "  </tbody>\n",
       "</table>\n",
       "<p>24916 rows × 9 columns</p>\n",
       "</div>"
      ],
      "text/plain": [
       "             id                                           headline  \\\n",
       "1          2023                                                      \n",
       "227624  6175683  Geelys Geespace startet erste Satelliten für s...   \n",
       "229555  6233916  Zentrum für KI in der Medizin ​soll für modern...   \n",
       "230160  6266836  Bericht: Höchststand bei Anschlägen auf Geldau...   \n",
       "230590  6278959  Grenzenlose Überwachung oder notwendiger Kinde...   \n",
       "...         ...                                                ...   \n",
       "256422  9584404  Stalking mit Bluetooth-Trackern: Landesministe...   \n",
       "256423  9584447  EU-Vorschlag: Selbstverpflichtung statt Cookie...   \n",
       "256424  9584467  Neue Lücke in altem E-Mail-Protokoll: SMTP smu...   \n",
       "256425  9584487  Elektronische Krankschreibungen: 6,8 Millionen...   \n",
       "256426  9584495  Briten entwickeln Bio-Kerosin aus menschlichen...   \n",
       "\n",
       "                   author                        time  \\\n",
       "1                          2023-05-30 14:08:12.000000   \n",
       "227624  Daniel AJ Sokolov  2022-06-03 05:04:00.000000   \n",
       "229555  Marie-Claire Koch  2023-11-16 09:20:00.000000   \n",
       "230160                dpa  2022-12-03 17:17:00.000000   \n",
       "230590  Keywan Tonekaboni  2022-01-08 06:30:00.000000   \n",
       "...                   ...                         ...   \n",
       "256422                dpa  2023-12-31 14:10:00.000000   \n",
       "256423     Benjamin Kraft  2023-12-31 15:35:00.000000   \n",
       "256424      Peter Siering  2023-12-31 16:14:00.000000   \n",
       "256425  Marie-Claire Koch  2023-12-31 16:43:00.000000   \n",
       "256426     Benjamin Kraft  2023-12-31 17:31:00.000000   \n",
       "\n",
       "                                                     lead  \\\n",
       "1                                                           \n",
       "227624  240 LEO-Satelliten sollen autonomen Geely-Auto...   \n",
       "229555  In Niedersachsen soll ein neues Forschungszent...   \n",
       "230160  Kriminelle verüben immer mehr Anschläge auf Ge...   \n",
       "230590  Content-Scanner suchen Social-Media-Plattforme...   \n",
       "...                                                   ...   \n",
       "256422  Mit winzigen Bluetooth-Ortungsgeräten können S...   \n",
       "256423  Cookie-Banner sind gut für den Datenschutz, ab...   \n",
       "256424  Sicherheitsforscher haben eine Schwäche im Sim...   \n",
       "256425  Mit mehr als 80 Millionen abgerufenen Exemplar...   \n",
       "256426  Ein britisches Unternehmen arbeitet an CO₂-neu...   \n",
       "\n",
       "                                                     text  comments security  \\\n",
       "1                                                               NaN     None   \n",
       "227624  Geespace hat den Aufbau eines erdnahen Satelli...      10.0     None   \n",
       "229555  In Niedersachsen entsteht ein Forschungszentru...       1.0     None   \n",
       "230160  Rund 450 Geldautomaten in Deutschland sind ein...     132.0     None   \n",
       "230590  Facebook, Google oder Microsoft nutzen Content...      49.0     None   \n",
       "...                                                   ...       ...      ...   \n",
       "256422  Mit scheibenförmigen Ortungsgeräten so klein w...      27.0     None   \n",
       "256423  Datenschutz im Internet ist nervig: Beim erste...     100.0     None   \n",
       "256424  Wenn heute E-Mails durchs Internet flutschen, ...     181.0     None   \n",
       "256425  Monatlich wurden im Jahr 2023 durchschnittlich...      23.0     None   \n",
       "256426  Fliegen ist schlecht für die Umwelt, weil dabe...     136.0     None   \n",
       "\n",
       "                                                      url  \n",
       "1       https://t3n.de/news/eu-regelungen-gender-pay-g...  \n",
       "227624  /news/Geelys-Geespace-startet-erste-Satelliten...  \n",
       "229555  /news/Zentrum-fuer-KI-in-der-Medizin-soll-fuer...  \n",
       "230160  /news/Bericht-Hoechststand-bei-Anschlaegen-auf...  \n",
       "230590  /news/Grenzenlose-Ueberwachung-oder-notwendige...  \n",
       "...                                                   ...  \n",
       "256422  /news/Stalking-mit-Bluetooth-Trackern-Landesmi...  \n",
       "256423  /news/EU-Vorschlag-Selbstverpflichtung-statt-C...  \n",
       "256424  /news/Neue-Luecke-in-altem-E-Mail-Protokoll-SM...  \n",
       "256425  /news/Elektronische-Krankschreibungen-6-8-Mill...  \n",
       "256426  /news/Briten-entwickeln-Bio-Kerosin-aus-mensch...  \n",
       "\n",
       "[24916 rows x 9 columns]"
      ]
     },
     "execution_count": 4,
     "metadata": {},
     "output_type": "execute_result"
    }
   ],
   "source": [
    "docs = docs[(docs[\"time\"]>='2022-01-01')]\n",
    "docs"
   ]
  },
  {
   "cell_type": "code",
   "execution_count": null,
   "metadata": {},
   "outputs": [],
   "source": [
    "docs.to_csv(\"newsticker2022-2023.csv.gz\")"
   ]
  },
  {
   "cell_type": "code",
   "execution_count": 5,
   "metadata": {
    "scrolled": false
   },
   "outputs": [
    {
     "data": {
      "text/plain": [
       "<AxesSubplot:xlabel='quality'>"
      ]
     },
     "execution_count": 5,
     "metadata": {},
     "output_type": "execute_result"
    },
    {
     "data": {
      "image/png": "[encoded data removed]",
      "text/plain": [
       "<Figure size 720x504 with 1 Axes>"
      ]
     },
     "metadata": {
      "needs_background": "light"
     },
     "output_type": "display_data"
    }
   ],
   "source": [
    "docs[\"quality\"] = \"uncertain\"\n",
    "docs.loc[docs[\"comments\"] < 10, \"quality\"] = \"bad\"\n",
    "docs.loc[docs[\"comments\"] > 50, \"quality\"] = \"good\"\n",
    "docs.groupby(\"quality\").agg({ \"text\": \"count\"}).rename(columns={\"text\": \"count\"}).plot.bar(figsize=(10, 7))"
   ]
  },
  {
   "cell_type": "code",
   "execution_count": null,
   "metadata": {},
   "outputs": [],
   "source": [
    "len(docs)"
   ]
  },
  {
   "cell_type": "code",
   "execution_count": null,
   "metadata": {},
   "outputs": [],
   "source": [
    "docs"
   ]
  },
  {
   "cell_type": "code",
   "execution_count": null,
   "metadata": {},
   "outputs": [],
   "source": [
    "docs[docs[\"quality\"]!=\"uncertain\"].set_index(\"id\")[[\"headline\", \"comments\", \"time\", \"quality\"]].to_csv(\"newsticker-2022-2023-good-bad.csv.gz\")"
   ]
  },
  {
   "cell_type": "code",
   "execution_count": null,
   "metadata": {},
   "outputs": [],
   "source": []
  }
 ],
 "metadata": {
  "kernelspec": {
   "display_name": "Python 3 (ipykernel)",
   "language": "python",
   "name": "python3"
  },
  "language_info": {
   "codemirror_mode": {
    "name": "ipython",
    "version": 3
   },
   "file_extension": ".py",
   "mimetype": "text/x-python",
   "name": "python",
   "nbconvert_exporter": "python",
   "pygments_lexer": "ipython3",
   "version": "3.10.12"
  },
  "toc": {
   "base_numbering": 1,
   "nav_menu": {},
   "number_sections": true,
   "sideBar": true,
   "skip_h1_title": false,
   "title_cell": "Table of Contents",
   "title_sidebar": "Contents",
   "toc_cell": false,
   "toc_position": {},
   "toc_section_display": true,
   "toc_window_display": false
  },
  "varInspector": {
   "cols": {
    "lenName": 16,
    "lenType": 16,
    "lenVar": 40
   },
   "kernels_config": {
    "python": {
     "delete_cmd_postfix": "",
     "delete_cmd_prefix": "del ",
     "library": "var_list.py",
     "varRefreshCmd": "print(var_dic_list())"
    },
    "r": {
     "delete_cmd_postfix": ") ",
     "delete_cmd_prefix": "rm(",
     "library": "var_list.r",
     "varRefreshCmd": "cat(var_dic_list()) "
    }
   },
   "types_to_exclude": [
    "module",
    "function",
    "builtin_function_or_method",
    "instance",
    "_Feature"
   ],
   "window_display": false
  }
 },
 "nbformat": 4,
 "nbformat_minor": 2
}
